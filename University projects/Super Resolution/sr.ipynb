{
 "cells": [
  {
   "cell_type": "markdown",
   "metadata": {},
   "source": [
    "# import libs\n",
    "\n",
    "\n",
    "\n",
    "If you are doing it in your local system :\n",
    "\n",
    "If you have\n",
    "\n",
    "opencv-python\n",
    "\n",
    "you need to uninstall it first, you can check if you have above package or not by the command :\n",
    "\n",
    "pip show opencv-python\n",
    "\n",
    "if you have it, uninstall it first by\n",
    "\n",
    "pip uninstall opencv-python\n",
    "\n",
    "and install\n",
    "\n",
    "opencv-contrib-python\n",
    "\n",
    "by\n",
    "\n",
    "pip install opencv-contrib-python\n",
    "\n",
    "by default it will download the latest version but still check the version by the show command above for opencv-contrib-python this time, just to check the version is above opencv4.2.0+, to force download a speicific version go through this : pip install package_name==version_number\n",
    "\n",
    "If you are doing it in Google Colab :\n",
    "\n",
    "opencv-python is already installed in colab but the version is 4.1.2, you can check it by :\n",
    "\n",
    "import cv2\n",
    "cv2.__version__\n",
    "you don't need to uninstall it, you just need to install opencv-contrib-python but if you install by :\n",
    "\n",
    "!pip install opencv-contrib-python\n",
    "\n",
    "It won't install it, it would default to same preinstalled opencv\n",
    "\n",
    "so run this :\n",
    "\n",
    "!pip install opencv-contrib-python==\n",
    "\n",
    "which will output all the available versions for colab, just select any version 4.3.x or above and run again, like:\n",
    "\n",
    "!pip install opencv-contrib-python==4.3.0.36\n"
   ]
  },
  {
   "cell_type": "code",
   "execution_count": 1,
   "metadata": {},
   "outputs": [],
   "source": [
    "import cv2\n",
    "from cv2 import dnn_superres"
   ]
  },
  {
   "cell_type": "code",
   "execution_count": 2,
   "metadata": {},
   "outputs": [],
   "source": [
    "# initialize super resolution object\n",
    "sr = cv2.dnn_superres.DnnSuperResImpl_create()\n",
    "\n",
    "# read the ready_made model --> for download model check my Github\n",
    "path = 'EDSR_x4.pb'\n",
    "sr.readModel(path)\n",
    "\n",
    "# set model and scale\n",
    "sr.setModel('edsr', 4)\n",
    "\n"
   ]
  },
  {
   "cell_type": "code",
   "execution_count": 3,
   "metadata": {},
   "outputs": [],
   "source": [
    "# Load the image\n",
    "image = cv2.imread('test.png')\n"
   ]
  },
  {
   "cell_type": "code",
   "execution_count": 6,
   "metadata": {},
   "outputs": [
    {
     "data": {
      "text/plain": [
       "True"
      ]
     },
     "execution_count": 6,
     "metadata": {},
     "output_type": "execute_result"
    }
   ],
   "source": [
    "# upscale the image\n",
    "upscale = sr.upsample(image)\n",
    "\n",
    "# save the image \n",
    "cv2.imwrite('Upscaled_image.png', upscale)\n",
    "\n"
   ]
  },
  {
   "cell_type": "code",
   "execution_count": 8,
   "metadata": {},
   "outputs": [
    {
     "data": {
      "text/plain": [
       "True"
      ]
     },
     "execution_count": 8,
     "metadata": {},
     "output_type": "execute_result"
    }
   ],
   "source": [
    "# Traditional method- bicubic\n",
    "bicubic = cv2.resize(image, (upscale.shape[1],upscale.shape[0]), interpolation=cv2.INTER_CUBIC )\n",
    "# save image\n",
    "cv2.imwrite('bicubic_image.png', bicubic)\n",
    "\n"
   ]
  },
  {
   "cell_type": "code",
   "execution_count": null,
   "metadata": {},
   "outputs": [],
   "source": []
  }
 ],
 "metadata": {
  "kernelspec": {
   "display_name": "fullpack",
   "language": "python",
   "name": "python3"
  },
  "language_info": {
   "codemirror_mode": {
    "name": "ipython",
    "version": 3
   },
   "file_extension": ".py",
   "mimetype": "text/x-python",
   "name": "python",
   "nbconvert_exporter": "python",
   "pygments_lexer": "ipython3",
   "version": "3.9.17"
  }
 },
 "nbformat": 4,
 "nbformat_minor": 2
}
